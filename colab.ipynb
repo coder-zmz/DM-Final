{
  "cells": [
    {
      "cell_type": "markdown",
      "metadata": {
        "id": "view-in-github",
        "colab_type": "text"
      },
      "source": [
        "<a href=\"https://colab.research.google.com/github/coder-zmz/DM-Final/blob/main/colab.ipynb\" target=\"_parent\"><img src=\"https://colab.research.google.com/assets/colab-badge.svg\" alt=\"Open In Colab\"/></a>"
      ]
    },
    {
      "cell_type": "code",
      "execution_count": 2,
      "metadata": {
        "colab": {
          "base_uri": "https://localhost:8080/"
        },
        "id": "jycJCebBk5Nn",
        "outputId": "18e5d5f5-e067-40c1-8bf0-901ef65f42d0"
      },
      "outputs": [
        {
          "output_type": "stream",
          "name": "stdout",
          "text": [
            "Collecting torch_geometric\n",
            "  Downloading torch_geometric-2.6.1-py3-none-any.whl.metadata (63 kB)\n",
            "\u001b[?25l     \u001b[90m━━━━━━━━━━━━━━━━━━━━━━━━━━━━━━━━━━━━━━━━\u001b[0m \u001b[32m0.0/63.1 kB\u001b[0m \u001b[31m?\u001b[0m eta \u001b[36m-:--:--\u001b[0m\r\u001b[2K     \u001b[90m━━━━━━━━━━━━━━━━━━━━━━━━━━━━━━━━━━━━━━━━\u001b[0m \u001b[32m63.1/63.1 kB\u001b[0m \u001b[31m2.0 MB/s\u001b[0m eta \u001b[36m0:00:00\u001b[0m\n",
            "\u001b[?25hRequirement already satisfied: aiohttp in /usr/local/lib/python3.10/dist-packages (from torch_geometric) (3.11.10)\n",
            "Requirement already satisfied: fsspec in /usr/local/lib/python3.10/dist-packages (from torch_geometric) (2024.10.0)\n",
            "Requirement already satisfied: jinja2 in /usr/local/lib/python3.10/dist-packages (from torch_geometric) (3.1.4)\n",
            "Requirement already satisfied: numpy in /usr/local/lib/python3.10/dist-packages (from torch_geometric) (1.26.4)\n",
            "Requirement already satisfied: psutil>=5.8.0 in /usr/local/lib/python3.10/dist-packages (from torch_geometric) (5.9.5)\n",
            "Requirement already satisfied: pyparsing in /usr/local/lib/python3.10/dist-packages (from torch_geometric) (3.2.0)\n",
            "Requirement already satisfied: requests in /usr/local/lib/python3.10/dist-packages (from torch_geometric) (2.32.3)\n",
            "Requirement already satisfied: tqdm in /usr/local/lib/python3.10/dist-packages (from torch_geometric) (4.66.6)\n",
            "Requirement already satisfied: aiohappyeyeballs>=2.3.0 in /usr/local/lib/python3.10/dist-packages (from aiohttp->torch_geometric) (2.4.4)\n",
            "Requirement already satisfied: aiosignal>=1.1.2 in /usr/local/lib/python3.10/dist-packages (from aiohttp->torch_geometric) (1.3.2)\n",
            "Requirement already satisfied: async-timeout<6.0,>=4.0 in /usr/local/lib/python3.10/dist-packages (from aiohttp->torch_geometric) (4.0.3)\n",
            "Requirement already satisfied: attrs>=17.3.0 in /usr/local/lib/python3.10/dist-packages (from aiohttp->torch_geometric) (24.2.0)\n",
            "Requirement already satisfied: frozenlist>=1.1.1 in /usr/local/lib/python3.10/dist-packages (from aiohttp->torch_geometric) (1.5.0)\n",
            "Requirement already satisfied: multidict<7.0,>=4.5 in /usr/local/lib/python3.10/dist-packages (from aiohttp->torch_geometric) (6.1.0)\n",
            "Requirement already satisfied: propcache>=0.2.0 in /usr/local/lib/python3.10/dist-packages (from aiohttp->torch_geometric) (0.2.1)\n",
            "Requirement already satisfied: yarl<2.0,>=1.17.0 in /usr/local/lib/python3.10/dist-packages (from aiohttp->torch_geometric) (1.18.3)\n",
            "Requirement already satisfied: MarkupSafe>=2.0 in /usr/local/lib/python3.10/dist-packages (from jinja2->torch_geometric) (3.0.2)\n",
            "Requirement already satisfied: charset-normalizer<4,>=2 in /usr/local/lib/python3.10/dist-packages (from requests->torch_geometric) (3.4.0)\n",
            "Requirement already satisfied: idna<4,>=2.5 in /usr/local/lib/python3.10/dist-packages (from requests->torch_geometric) (3.10)\n",
            "Requirement already satisfied: urllib3<3,>=1.21.1 in /usr/local/lib/python3.10/dist-packages (from requests->torch_geometric) (2.2.3)\n",
            "Requirement already satisfied: certifi>=2017.4.17 in /usr/local/lib/python3.10/dist-packages (from requests->torch_geometric) (2024.8.30)\n",
            "Requirement already satisfied: typing-extensions>=4.1.0 in /usr/local/lib/python3.10/dist-packages (from multidict<7.0,>=4.5->aiohttp->torch_geometric) (4.12.2)\n",
            "Downloading torch_geometric-2.6.1-py3-none-any.whl (1.1 MB)\n",
            "\u001b[2K   \u001b[90m━━━━━━━━━━━━━━━━━━━━━━━━━━━━━━━━━━━━━━━━\u001b[0m \u001b[32m1.1/1.1 MB\u001b[0m \u001b[31m20.9 MB/s\u001b[0m eta \u001b[36m0:00:00\u001b[0m\n",
            "\u001b[?25hInstalling collected packages: torch_geometric\n",
            "Successfully installed torch_geometric-2.6.1\n"
          ]
        }
      ],
      "source": [
        "!pip install torch_geometric"
      ]
    },
    {
      "cell_type": "code",
      "source": [
        "!git clone https://github.com/coder-zmz/DM-Final.git"
      ],
      "metadata": {
        "colab": {
          "base_uri": "https://localhost:8080/"
        },
        "id": "_GBkWLdvRUCx",
        "outputId": "a9391721-6bc0-4cb4-c0de-faefe8298e8f"
      },
      "execution_count": 3,
      "outputs": [
        {
          "output_type": "stream",
          "name": "stdout",
          "text": [
            "fatal: destination path 'DM-Final' already exists and is not an empty directory.\n"
          ]
        }
      ]
    },
    {
      "cell_type": "code",
      "execution_count": 4,
      "metadata": {
        "colab": {
          "base_uri": "https://localhost:8080/"
        },
        "id": "8aLYshba2Sav",
        "outputId": "f698d945-5ba2-4a3f-f760-246d7c854009"
      },
      "outputs": [
        {
          "output_type": "stream",
          "name": "stderr",
          "text": [
            "[nltk_data] Downloading package punkt_tab to /root/nltk_data...\n",
            "[nltk_data]   Unzipping tokenizers/punkt_tab.zip.\n",
            "[nltk_data] Downloading package wordnet to /root/nltk_data...\n"
          ]
        },
        {
          "output_type": "execute_result",
          "data": {
            "text/plain": [
              "True"
            ]
          },
          "metadata": {},
          "execution_count": 4
        }
      ],
      "source": [
        "import nltk\n",
        "nltk.download('punkt_tab')\n",
        "nltk.download('wordnet')"
      ]
    },
    {
      "source": [
        "import random\n",
        "import numpy as np\n",
        "import torch\n",
        "\n",
        "# 设置随机种子\n",
        "seed = 123\n",
        "\n",
        "random.seed(seed)\n",
        "np.random.seed(seed)\n",
        "torch.manual_seed(seed)\n",
        "torch.cuda.manual_seed(seed)  # 如果使用 GPU\n",
        "torch.cuda.manual_seed_all(seed)  # 如果使用多个 GPU\n",
        "torch.backends.cudnn.deterministic = True  # 保证 cuDNN 的确定性行为\n",
        "torch.backends.cudnn.benchmark = False  # 禁用 cuDNN 的基准测试，以保证确定性"
      ],
      "cell_type": "code",
      "metadata": {
        "id": "E3Jx3mhr9GpQ"
      },
      "execution_count": 5,
      "outputs": []
    },
    {
      "cell_type": "markdown",
      "metadata": {
        "id": "VAr_L2S-2xgZ"
      },
      "source": [
        "# 文本特征提取"
      ]
    },
    {
      "cell_type": "code",
      "execution_count": 6,
      "metadata": {
        "id": "Swef-oX8uz5l"
      },
      "outputs": [],
      "source": [
        "import warnings\n",
        "import numpy as np\n",
        "from sklearn.feature_extraction.text import CountVectorizer, TfidfTransformer\n",
        "from nltk import word_tokenize\n",
        "from nltk.stem import WordNetLemmatizer\n",
        "\n",
        "warnings.filterwarnings('ignore')\n",
        "\n",
        "# 定义一个用于文本预处理的类，继承自 CountVectorizer 的 tokenizer 参数\n",
        "class LemmaTokenizer:\n",
        "    \"\"\"\n",
        "    用于文本预处理的类，进行词形还原和简单的过滤。\n",
        "    \"\"\"\n",
        "    def __init__(self):\n",
        "        # 初始化 WordNetLemmatizer 对象，用于词形还原\n",
        "        self.wnl = WordNetLemmatizer()\n",
        "\n",
        "    def __call__(self, doc):\n",
        "        words = []  # 初始化一个空列表，用于存储预处理后的单词\n",
        "        for t in word_tokenize(doc):  # 使用 word_tokenize 对文本进行分词\n",
        "            # 过滤掉长度小于 3、包含撇号或波浪号的单词\n",
        "            if len(t) < 3 or \"'\" in t or \"~\" in t:\n",
        "                continue\n",
        "            # 对剩余的单词进行词形还原，并将结果添加到 words 列表中\n",
        "            words.append(self.wnl.lemmatize(t))\n",
        "        return words  # 返回预处理后的单词列表\n",
        "\n",
        "# CountVectorizer 参数\n",
        "params_count = {\n",
        "    'analyzer': 'word',     # 取值'word'-分词结果为词级、'char'-字符级(结果会出现he is，空格在中间的情况)、'char_wb'-字符级(以单词为边界)，默认值为'word'\n",
        "    'binary': False,        # boolean类型，设置为True，则所有非零计数都设置为1.（即，tf的值只有0和1，表示出现和不出现）\n",
        "    'decode_error': 'strict',\n",
        "    'dtype': np.float64,    # 输出矩阵的数值类型\n",
        "    'encoding': 'utf-8',\n",
        "    'input': 'content',     # 取值filename，文本内容所在的文件名；file，序列项必须有一个'read'方法，被调用来获取内存中的字节；content，直接输入文本字符串\n",
        "    'lowercase': True,      # boolean类型，计算之前是否将所有字符转换为小写。\n",
        "    'max_df': 0.8,          # 词汇表中忽略文档频率高于该值的词；取值在[0,1]之间的小数时表示文档频率的阈值，取值为整数时(>1)表示文档频数的阈值；如果设置了vocabulary，则忽略此参数。\n",
        "    'min_df': 0.01,            # 词汇表中忽略文档频率低于该值的词；取值在[0,1]之间的小数时表示文档频率的阈值，取值为整数时(>1)表示文档频数的阈值；如果设置了vocabulary，则忽略此参数。\n",
        "    'max_features': None,   # int或None(默认值).设置int值时建立一个词汇表，仅用词频排序的前max_features个词创建语料库；如果设置了vocabulary，则忽略此参数。\n",
        "    'ngram_range': (1, 2),  # 要提取的n-grams中n值范围的下限和上限，min_n <= n <= max_n。\n",
        "    'preprocessor': None,   # 覆盖预处理（字符串转换）阶段，同时保留标记化和 n-gram 生成步骤。仅适用于analyzer不可调用的情况。\n",
        "    'stop_words': 'english',    # 仅适用于analyzer='word'。取值english，使用内置的英语停用词表；list，自行设置停停用词列表；默认值None，不会处理停用词\n",
        "    'strip_accents': None,\n",
        "    'token_pattern': '(?u)\\\\b\\\\w\\\\w+\\\\b',   # 分词方式、正则表达式，默认筛选长度>=2的字母和数字混合字符（标点符号被当作分隔符）。仅在analyzer='word'时使用。\n",
        "    'tokenizer': LemmaTokenizer(),      # 覆盖字符串标记化步骤，同时保留预处理和 n-gram 生成步骤。仅适用于analyzer='word'\n",
        "    'vocabulary': None,     # 自行设置词汇表（可设置字典），如果没有给出，则从输入文件/文本中确定词汇表\n",
        "}\n",
        "# tfidf 参数\n",
        "params_tfidf = {\n",
        "    'norm': 'l2',           # 输出结果是否标准化/归一化。l2：向量元素的平方和为1，当应用l2范数时，两个向量之间的余弦相似度是它们的点积；l1：向量元素的绝对值之和为1\n",
        "    'smooth_idf': True,     # 在文档频率上加1来平滑 idf ，避免分母为0\n",
        "    'sublinear_tf': True,  # 应用次线性 tf 缩放，即将 tf 替换为 1 + log(tf)\n",
        "    'use_idf': True,        # 是否计算idf，布尔值，False时idf=1。\n",
        "}\n",
        "\n",
        "def text_embedding(data):\n",
        "    \"\"\"\n",
        "    将输入的文本数据转换为文本嵌入向量，使用词袋模型和 TF-IDF 技术。\n",
        "\n",
        "    Args:\n",
        "        data: 输入文本数据，可以是字符串列表或其他可迭代对象。\n",
        "\n",
        "    Returns:\n",
        "        文本嵌入向量，以 NumPy 数组的形式返回。\n",
        "    \"\"\"\n",
        "\n",
        "    # 创建 CountVectorizer 对象，并使用 params_count 中的参数进行配置\n",
        "    cv = CountVectorizer(**params_count)\n",
        "    # 使用 CountVectorizer 拟合数据并转换文本\n",
        "    x_cv = cv.fit_transform(data)\n",
        "\n",
        "    # 获取特征词列表\n",
        "    vocabulary = cv.get_feature_names_out()\n",
        "    # 打印特征词列表\n",
        "    #print(f\"特征词列表：\\n{vocabulary}\")\n",
        "    # 打印词频矩阵\n",
        "    #print(f\"词频矩阵：\\n{x_cv.toarray()}\")\n",
        "\n",
        "\n",
        "    # 创建 TfidfTransformer 对象，并使用 params_tfidf 中的参数进行配置\n",
        "    tt = TfidfTransformer(**params_tfidf)\n",
        "    # 使用 TfidfTransformer 拟合数据并转换文本\n",
        "    x_tfidf = tt.fit_transform(x_cv.toarray())\n",
        "    # 打印 TF-IDF 矩阵\n",
        "    #print(f\"TF-IDF 矩阵：\\n{x_tfidf.toarray()}\")\n",
        "\n",
        "    # 返回 TF-IDF 矩阵作为文本嵌入向量\n",
        "    return x_tfidf.toarray()"
      ]
    },
    {
      "cell_type": "code",
      "source": [
        "# 测试\n",
        "train_data = [\"Chinese Beijing Chinese \",\n",
        "        \"Chinese Chinese Shanghai\",\n",
        "        \"Chinese Macao\",\n",
        "        \"Tokyo Japan Chinese\"]\n",
        "print(text_embedding(train_data))"
      ],
      "metadata": {
        "colab": {
          "base_uri": "https://localhost:8080/"
        },
        "id": "9lEdbfDEbvls",
        "outputId": "f7a7b79d-4735-439d-ccfb-5b4dc05dd01b"
      },
      "execution_count": 7,
      "outputs": [
        {
          "output_type": "stream",
          "name": "stdout",
          "text": [
            "[[0.57735027 0.57735027 0.57735027 0.         0.         0.\n",
            "  0.         0.         0.         0.         0.         0.        ]\n",
            " [0.         0.         0.         0.57735027 0.         0.57735027\n",
            "  0.         0.         0.         0.57735027 0.         0.        ]\n",
            " [0.         0.         0.         0.         0.70710678 0.\n",
            "  0.         0.         0.70710678 0.         0.         0.        ]\n",
            " [0.         0.         0.         0.         0.         0.\n",
            "  0.5        0.5        0.         0.         0.5        0.5       ]]\n"
          ]
        }
      ]
    },
    {
      "cell_type": "markdown",
      "source": [
        "# 读取数据"
      ],
      "metadata": {
        "id": "EnfDQ0TSb86C"
      }
    },
    {
      "cell_type": "code",
      "source": [
        "import torch\n",
        "from torch_geometric.data import Data\n",
        "\n",
        "def read_data(dataset_name):\n",
        "    \"\"\"\n",
        "    读取cora数据集，并将其转换为torch_geometric的数据格式。\n",
        "\n",
        "    Args:\n",
        "        dataset_name: 数据集名称，例如\"cora\"。\n",
        "\n",
        "    Returns:\n",
        "        一个torch_geometric的Data对象，包含节点特征、边索引和节点标签。\n",
        "        label_name_dict: 标签对应名称的字典。\n",
        "    \"\"\"\n",
        "    # 定义文件路径\n",
        "    base_path = \"/content/DM-Final/data_2/\"\n",
        "    edge_path = base_path + dataset_name + \".edge\"\n",
        "    label_path = base_path + dataset_name + \".label\"\n",
        "    label_name_path = base_path + dataset_name + \".label_name\"\n",
        "    text_path = base_path + dataset_name + \".text\"\n",
        "\n",
        "    # 读取标签对应名称\n",
        "    label_name_dict = {}\n",
        "    with open(label_name_path, 'r') as f:\n",
        "        for line in f:\n",
        "            label, name = line.strip().split(\" \", 1)\n",
        "            label_name_dict[int(label)] = name\n",
        "\n",
        "    # 读取边信息\n",
        "    edges = []\n",
        "    with open(edge_path, 'r') as f:\n",
        "        for line in f:\n",
        "            source, target = map(int, line.strip().split())\n",
        "            edges.append((source, target))\n",
        "\n",
        "    # 将边信息转换为PyTorch张量\n",
        "    edge_index = torch.tensor(edges, dtype=torch.long).t().contiguous()\n",
        "\n",
        "    # 读取节点标签\n",
        "    labels = {}\n",
        "    with open(label_path, 'r') as f:\n",
        "        for line in f:\n",
        "            node_id, label = map(int, line.strip().split())\n",
        "            labels[node_id] = label\n",
        "\n",
        "    # 将节点标签转换为PyTorch张量\n",
        "    y = torch.tensor([labels[i] for i in range(len(labels))], dtype=torch.long)\n",
        "\n",
        "    # 读取文本特征\n",
        "    node_texts = {}\n",
        "    with open(text_path, \"r\") as f:\n",
        "        for line in f:\n",
        "            node_id, text = line.strip().split(\" \", 1)  # 以第一个空格分割\n",
        "            node_texts[int(node_id)] = text\n",
        "\n",
        "    # 获取节点特征\n",
        "    node_features = text_embedding(list(node_texts.values()))\n",
        "    x = torch.tensor(node_features, dtype=torch.float32)\n",
        "\n",
        "    # 创建Data对象\n",
        "    data = Data(x=x, edge_index=edge_index, y=y)\n",
        "\n",
        "    return data, label_name_dict"
      ],
      "metadata": {
        "id": "992lk6PtbWon"
      },
      "execution_count": 8,
      "outputs": []
    },
    {
      "cell_type": "code",
      "source": [
        "# 读取cora数据集\n",
        "cora_data = read_data(\"cora\")\n",
        "data = cora_data[0]\n",
        "# 验证数据集\n",
        "data.validate()\n",
        "\n",
        "# 获取数据集的类别数量\n",
        "cora_classes = len(torch.unique(data.y))\n",
        "\n",
        "# 检查 data.x 的最小值和最大值\n",
        "min_val = torch.min(data.x)\n",
        "max_val = torch.max(data.x)\n",
        "\n",
        "print(f\"Minimum value: {min_val}\")\n",
        "print(f\"Maximum value: {max_val}\")\n",
        "\n",
        "print(f\"data.x.shape: {data.x.shape}\")\n",
        "print(f\"data.edge_index.shape: {data.edge_index.shape}\")\n",
        "print(f\"data.y.shape: {data.y.shape}\")"
      ],
      "metadata": {
        "colab": {
          "base_uri": "https://localhost:8080/"
        },
        "id": "S4uAkWOtePHm",
        "outputId": "1fb388ac-731c-4f39-e1ef-3b27459f89fb"
      },
      "execution_count": 9,
      "outputs": [
        {
          "output_type": "stream",
          "name": "stdout",
          "text": [
            "Minimum value: 0.0\n",
            "Maximum value: 1.0\n",
            "data.x.shape: torch.Size([2708, 1150])\n",
            "data.edge_index.shape: torch.Size([2, 10858])\n",
            "data.y.shape: torch.Size([2708])\n"
          ]
        }
      ]
    },
    {
      "cell_type": "code",
      "source": [
        "import torch\n",
        "import numpy as np\n",
        "\n",
        "# 假设 data.y 是你的节点标签张量\n",
        "unique_labels, label_counts = torch.unique(data.y, return_counts=True)\n",
        "\n",
        "# 将结果转换为 NumPy 数组\n",
        "unique_labels = unique_labels.cpu().numpy()\n",
        "label_counts = label_counts.cpu().numpy()\n",
        "\n",
        "for label, count in zip(unique_labels, label_counts):\n",
        "    label_name = cora_data[1].get(label)\n",
        "    print(f\"类别 {label_name} : {count} 个节点\")"
      ],
      "metadata": {
        "colab": {
          "base_uri": "https://localhost:8080/"
        },
        "id": "zVPCXzEkSDpH",
        "outputId": "aeb8cdd0-42e6-40bf-82c3-1b043b585d1a"
      },
      "execution_count": 10,
      "outputs": [
        {
          "output_type": "stream",
          "name": "stdout",
          "text": [
            "类别 Rule_Learning : 180 个节点\n",
            "类别 Neural_Networks : 818 个节点\n",
            "类别 Case_Based : 298 个节点\n",
            "类别 Genetic_Algorithms : 418 个节点\n",
            "类别 Theory : 351 个节点\n",
            "类别 Reinforcement_Learning : 217 个节点\n",
            "类别 Probabilistic_Methods : 426 个节点\n"
          ]
        }
      ]
    },
    {
      "cell_type": "markdown",
      "source": [
        "# 数据预处理"
      ],
      "metadata": {
        "id": "xnmf2vL5dsJZ"
      }
    },
    {
      "cell_type": "markdown",
      "source": [
        "## 降维"
      ],
      "metadata": {
        "id": "qJoUjzjMrrze"
      }
    },
    {
      "cell_type": "code",
      "source": [
        "from sklearn.decomposition import PCA\n",
        "\n",
        "# 创建 PCA 对象，指定降维后的维度\n",
        "pca = PCA(n_components=500)\n",
        "\n",
        "# 对特征矩阵进行降维\n",
        "reduced_features = pca.fit_transform(data.x)\n",
        "\n",
        "# 将降维后的特征转换为 PyTorch 张量\n",
        "data.x = torch.tensor(reduced_features, dtype=torch.float32)\n",
        "\n",
        "# 检查降维后的数据\n",
        "data.x.shape"
      ],
      "metadata": {
        "colab": {
          "base_uri": "https://localhost:8080/"
        },
        "id": "g2v4zcpSqcV6",
        "outputId": "b37e2714-796a-4ae8-c7b1-f88c0826a6d8"
      },
      "execution_count": 11,
      "outputs": [
        {
          "output_type": "execute_result",
          "data": {
            "text/plain": [
              "torch.Size([2708, 500])"
            ]
          },
          "metadata": {},
          "execution_count": 11
        }
      ]
    },
    {
      "cell_type": "markdown",
      "source": [
        "## 按类别划分数据集"
      ],
      "metadata": {
        "id": "yR-j0r5dTaA4"
      }
    },
    {
      "cell_type": "code",
      "source": [
        "import torch\n",
        "import numpy as np\n",
        "\n",
        "def split_data(data):\n",
        "    \"\"\"\n",
        "    每种节点选取 40 个作为训练集，并随机选择 1000 个节点作为测试集。\n",
        "\n",
        "    Args:\n",
        "        data: torch_geometric.data.Data 对象，包含节点特征、边索引和节点标签。\n",
        "\n",
        "    Returns:\n",
        "        更新后的 data 对象，包含 train_mask、val_mask 和 test_mask。\n",
        "    \"\"\"\n",
        "    num_nodes = data.num_nodes\n",
        "    unique_labels = torch.unique(data.y)  # 获取所有类别标签\n",
        "\n",
        "    train_mask = torch.zeros(num_nodes, dtype=torch.bool)\n",
        "    test_mask = torch.zeros(num_nodes, dtype=torch.bool)\n",
        "\n",
        "    for label in unique_labels:\n",
        "        label_indices = torch.where(data.y == label)[0]  # 获取该类别所有节点的索引\n",
        "        num_label_nodes = len(label_indices)\n",
        "\n",
        "        # 训练集节点：每种类别选取 40 个\n",
        "        train_idx = label_indices[torch.randperm(num_label_nodes)[:40]]\n",
        "        train_mask[train_idx] = True\n",
        "\n",
        "    # 测试集节点：随机选择 1000 个\n",
        "    test_idx = torch.randperm(num_nodes)[:1000]\n",
        "    test_mask[test_idx] = True\n",
        "\n",
        "    # 其余节点作为验证集\n",
        "    val_mask = ~(train_mask | test_mask)\n",
        "\n",
        "    # 将掩码添加到 data 对象\n",
        "    data.train_mask = train_mask\n",
        "    data.val_mask = val_mask\n",
        "    data.test_mask = test_mask\n",
        "\n",
        "    return data"
      ],
      "metadata": {
        "id": "IOCOGfyiTcSK"
      },
      "execution_count": 12,
      "outputs": []
    },
    {
      "cell_type": "code",
      "source": [
        "data = split_data(data)\n",
        "\n",
        "train_nodes = data.y[data.train_mask]  # 获取训练集节点的标签\n",
        "unique_labels, label_counts = torch.unique(train_nodes, return_counts=True)  # 统计每个标签的出现次数\n",
        "\n",
        "# 将结果转换为字典\n",
        "class_counts = {label.item(): count.item() for label, count in zip(unique_labels, label_counts)}\n",
        "for label, count in class_counts.items():\n",
        "    print(f\"类别 {label}: {count} 个节点\")\n"
      ],
      "metadata": {
        "colab": {
          "base_uri": "https://localhost:8080/"
        },
        "id": "QvpYT1QQUPV2",
        "outputId": "e91a7968-5fa9-4c6a-b36a-fce85bbb5a3d"
      },
      "execution_count": 13,
      "outputs": [
        {
          "output_type": "stream",
          "name": "stdout",
          "text": [
            "类别 0: 40 个节点\n",
            "类别 1: 40 个节点\n",
            "类别 2: 40 个节点\n",
            "类别 3: 40 个节点\n",
            "类别 4: 40 个节点\n",
            "类别 5: 40 个节点\n",
            "类别 6: 40 个节点\n"
          ]
        }
      ]
    },
    {
      "cell_type": "markdown",
      "source": [
        "# 模型训练"
      ],
      "metadata": {
        "id": "XhAu9AGFg62T"
      }
    },
    {
      "cell_type": "markdown",
      "source": [
        "## 评价函数"
      ],
      "metadata": {
        "id": "BwZ7qu5pB9LX"
      }
    },
    {
      "cell_type": "code",
      "source": [
        "from sklearn.metrics import accuracy_score, f1_score, precision_score, recall_score, roc_auc_score\n",
        "import torch\n",
        "\n",
        "def calculate_metrics(model, data, mask):\n",
        "    \"\"\"\n",
        "    计算模型在指定数据集上的所有指标。\n",
        "\n",
        "    Args:\n",
        "        model: 模型。\n",
        "        data: 数据对象。\n",
        "        mask: 用于选择节点的掩码，例如 data.train_mask 或 data.test_mask。\n",
        "\n",
        "    Returns:\n",
        "        一个包含所有指标的字典。\n",
        "    \"\"\"\n",
        "    model.eval()\n",
        "    with torch.no_grad():  # 禁用梯度计算\n",
        "      out = model(data.x, data.edge_index)\n",
        "      probs = torch.nn.functional.softmax(out, dim=1) # 使用 softmax 将模型输出转换为概率\n",
        "      pred = out.argmax(dim=1).cpu().numpy()  # 获取预测类别\n",
        "      true = data.y[mask].cpu().numpy()  # 获取真实标签\n",
        "\n",
        "      # 计算指标\n",
        "      acc = accuracy_score(true, pred[mask])\n",
        "      prec = precision_score(true, pred[mask], average='weighted')\n",
        "      rec = recall_score(true, pred[mask], average='weighted')\n",
        "      f1 = f1_score(true, pred[mask], average='weighted')\n",
        "      auc = roc_auc_score(true, probs[mask].cpu().detach().numpy(), multi_class='ovr', average='weighted')\n",
        "\n",
        "    return {'accuracy': acc, 'precision': prec, 'recall': rec, 'f1': f1, 'auc': auc}"
      ],
      "metadata": {
        "id": "dcZHYXdWB_0C"
      },
      "execution_count": 22,
      "outputs": []
    },
    {
      "cell_type": "markdown",
      "source": [
        "## 训练函数"
      ],
      "metadata": {
        "id": "xhdkkN77BD4y"
      }
    },
    {
      "cell_type": "code",
      "source": [
        "import pandas as pd\n",
        "import torch\n",
        "\n",
        "def train_and_evaluate(model, criterion, optimizer, data, num_epochs=200, patience=10, scheduler=None):\n",
        "    \"\"\"\n",
        "    训练模型并评估其在训练集和测试集上的性能。\n",
        "\n",
        "    Args:\n",
        "        model: PyTorch 模型。\n",
        "        criterion: 损失函数。\n",
        "        optimizer: 优化器。\n",
        "        data: PyTorch Geometric 数据对象。\n",
        "        num_epochs: 训练轮数。\n",
        "        patience: 早停的 patience 值，即连续多少个 epoch 验证集损失没有下降就停止训练。\n",
        "\n",
        "    Returns:\n",
        "        train_metrics_df: 存储训练集上评价指标的 Pandas DataFrame。\n",
        "        test_metrics_df: 存储测试集上评价指标的 Pandas DataFrame。\n",
        "    \"\"\"\n",
        "\n",
        "    # 创建 Pandas DataFrame\n",
        "    train_metrics_df = pd.DataFrame(columns=['epoch', 'loss', 'accuracy', 'precision', 'recall', 'f1', 'auc'])\n",
        "    test_metrics_df = pd.DataFrame(columns=['epoch', 'accuracy', 'precision', 'recall', 'f1', 'auc'])\n",
        "\n",
        "    # 初始化早停计数器和最佳验证集损失\n",
        "    best_val_loss = float('inf')\n",
        "    early_stop_counter = 0\n",
        "\n",
        "    # 训练循环\n",
        "    for epoch in range(1, num_epochs + 1):\n",
        "        # 训练模型\n",
        "        model.train()\n",
        "        optimizer.zero_grad()\n",
        "        out = model(data.x, data.edge_index)\n",
        "        loss = criterion(out[data.train_mask], data.y[data.train_mask])\n",
        "        loss.backward()\n",
        "        optimizer.step()\n",
        "\n",
        "        # 如果提供了 scheduler，则更新学习率\n",
        "        if scheduler is not None:\n",
        "            scheduler.step()\n",
        "\n",
        "        # 计算验证集上的Loss\n",
        "        model.eval()\n",
        "        with torch.no_grad(): # 禁用梯度计算\n",
        "          out = model(data.x, data.edge_index)\n",
        "          val_loss = criterion(out[data.val_mask], data.y[data.val_mask])\n",
        "        # 检查验证集损失是否下降\n",
        "        if val_loss < best_val_loss:\n",
        "            best_val_loss = val_loss\n",
        "            early_stop_counter = 0\n",
        "        else:\n",
        "            early_stop_counter += 1\n",
        "\n",
        "        # 每 20 个 epoch 评估模型性能\n",
        "        if epoch % 20 == 0 or early_stop_counter >= patience:\n",
        "\n",
        "            # 计算训练集上的评价指标\n",
        "            train_metrics = calculate_metrics(model, data, data.train_mask)\n",
        "            # 计算测试集上的评价指标\n",
        "            test_metrics = calculate_metrics(model, data, data.test_mask)\n",
        "\n",
        "            # 将指标添加到 DataFrame\n",
        "            train_metrics_df.loc[len(train_metrics_df)] = [epoch, loss.item(), train_metrics['accuracy'], train_metrics['precision'], train_metrics['recall'], train_metrics['f1'], train_metrics['auc']]\n",
        "            test_metrics_df.loc[len(test_metrics_df)] = [epoch, test_metrics['accuracy'], test_metrics['precision'], test_metrics['recall'], test_metrics['f1'], test_metrics['auc']]\n",
        "\n",
        "            # 打印指标\n",
        "            print(f'Epoch: {epoch:03d}, Train Loss: {loss:.4f}, Val Loss: {val_loss:.4f}, '\n",
        "                  f'Train Acc: {train_metrics[\"accuracy\"]:.4f}, Train Prec: {train_metrics[\"precision\"]:.4f}, Train Rec: {train_metrics[\"recall\"]:.4f}, Train F1: {train_metrics[\"f1\"]:.4f}, Train AUC: {train_metrics[\"auc\"]:.4f}, '\n",
        "                  f'Test Acc: {test_metrics[\"accuracy\"]:.4f}, Test Prec: {test_metrics[\"precision\"]:.4f}, Test Rec: {test_metrics[\"recall\"]:.4f}, Test F1: {test_metrics[\"f1\"]:.4f}, Test AUC: {test_metrics[\"auc\"]:.4f}')\n",
        "\n",
        "            # 如果验证集损失连续 patience 个 epoch 没有下降，则停止训练\n",
        "            if early_stop_counter >= patience:\n",
        "                print(f'Early stopping at epoch {epoch}')\n",
        "                break\n",
        "\n",
        "    return train_metrics_df, test_metrics_df"
      ],
      "metadata": {
        "id": "viU4g7VDBBye"
      },
      "execution_count": 41,
      "outputs": []
    },
    {
      "cell_type": "markdown",
      "metadata": {
        "id": "_y4V1fv8ephL"
      },
      "source": [
        "## CORA+GCN"
      ]
    },
    {
      "cell_type": "code",
      "execution_count": 38,
      "metadata": {
        "colab": {
          "base_uri": "https://localhost:8080/"
        },
        "id": "LYvYl6UdeqmP",
        "outputId": "05853245-7ef2-4cee-c1c4-820056716c14",
        "cellView": "form"
      },
      "outputs": [
        {
          "output_type": "stream",
          "name": "stdout",
          "text": [
            "GCN(\n",
            "  (conv1): GCNConv(500, 16)\n",
            "  (conv2): GCNConv(16, 7)\n",
            ")\n",
            "Epoch: 020, Train Loss: 1.4691, Val Loss: 1.6706, Train Acc: 0.9143, Train Prec: 0.9173, Train Rec: 0.9143, Train F1: 0.9118, Train AUC: 0.9885, Test Acc: 0.7250, Test Prec: 0.7521, Test Rec: 0.7250, Test F1: 0.7236, Test AUC: 0.9210\n",
            "Epoch: 040, Train Loss: 0.8337, Val Loss: 1.2630, Train Acc: 0.9571, Train Prec: 0.9576, Train Rec: 0.9571, Train F1: 0.9566, Train AUC: 0.9975, Test Acc: 0.7810, Test Prec: 0.7934, Test Rec: 0.7810, Test F1: 0.7827, Test AUC: 0.9451\n",
            "Epoch: 060, Train Loss: 0.4607, Val Loss: 0.9602, Train Acc: 0.9679, Train Prec: 0.9691, Train Rec: 0.9679, Train F1: 0.9678, Train AUC: 0.9992, Test Acc: 0.8100, Test Prec: 0.8224, Test Rec: 0.8100, Test F1: 0.8117, Test AUC: 0.9585\n",
            "Epoch: 080, Train Loss: 0.2872, Val Loss: 0.8125, Train Acc: 0.9786, Train Prec: 0.9794, Train Rec: 0.9786, Train F1: 0.9786, Train AUC: 0.9999, Test Acc: 0.8250, Test Prec: 0.8340, Test Rec: 0.8250, Test F1: 0.8259, Test AUC: 0.9656\n",
            "Epoch: 100, Train Loss: 0.2655, Val Loss: 0.7201, Train Acc: 0.9929, Train Prec: 0.9930, Train Rec: 0.9929, Train F1: 0.9929, Train AUC: 1.0000, Test Acc: 0.8350, Test Prec: 0.8440, Test Rec: 0.8350, Test F1: 0.8360, Test AUC: 0.9706\n",
            "Epoch: 120, Train Loss: 0.2110, Val Loss: 0.6737, Train Acc: 0.9893, Train Prec: 0.9897, Train Rec: 0.9893, Train F1: 0.9893, Train AUC: 1.0000, Test Acc: 0.8410, Test Prec: 0.8507, Test Rec: 0.8410, Test F1: 0.8422, Test AUC: 0.9733\n",
            "Epoch: 140, Train Loss: 0.2068, Val Loss: 0.6317, Train Acc: 0.9929, Train Prec: 0.9932, Train Rec: 0.9929, Train F1: 0.9929, Train AUC: 1.0000, Test Acc: 0.8510, Test Prec: 0.8583, Test Rec: 0.8510, Test F1: 0.8516, Test AUC: 0.9755\n",
            "Epoch: 160, Train Loss: 0.1814, Val Loss: 0.6072, Train Acc: 0.9964, Train Prec: 0.9965, Train Rec: 0.9964, Train F1: 0.9964, Train AUC: 1.0000, Test Acc: 0.8550, Test Prec: 0.8625, Test Rec: 0.8550, Test F1: 0.8558, Test AUC: 0.9770\n",
            "Epoch: 180, Train Loss: 0.1636, Val Loss: 0.5784, Train Acc: 0.9929, Train Prec: 0.9930, Train Rec: 0.9929, Train F1: 0.9929, Train AUC: 1.0000, Test Acc: 0.8620, Test Prec: 0.8680, Test Rec: 0.8620, Test F1: 0.8626, Test AUC: 0.9783\n",
            "Epoch: 191, Train Loss: 0.1464, Val Loss: 0.5897, Train Acc: 0.9964, Train Prec: 0.9965, Train Rec: 0.9964, Train F1: 0.9964, Train AUC: 1.0000, Test Acc: 0.8570, Test Prec: 0.8656, Test Rec: 0.8570, Test F1: 0.8580, Test AUC: 0.9782\n",
            "Early stopping at epoch 191\n"
          ]
        }
      ],
      "source": [
        "# @title 默认\n",
        "from torch_geometric.nn import GCNConv\n",
        "import torch\n",
        "import torch.nn.functional as F\n",
        "\n",
        "class GCN(torch.nn.Module):\n",
        "    def __init__(self, hidden_channels) -> None:\n",
        "        super().__init__()\n",
        "        self.conv1 = GCNConv(data.num_node_features, hidden_channels)\n",
        "        self.conv2 = GCNConv(hidden_channels, len(torch.unique(data.y)))\n",
        "\n",
        "    def forward(self, x, edge_index):\n",
        "        h = self.conv1(x, edge_index)\n",
        "        h = h.relu()\n",
        "        # 对输入的节点特征 x 进行 Dropout 操作，以减少过拟合风险。\n",
        "        # p=0.5 表示丢弃概率为0.5，即有50%的概率将输入置零。\n",
        "        h = F.dropout(h,p=0.5, training=self.training)\n",
        "        h = self.conv2(h, edge_index)\n",
        "        return h\n",
        "\n",
        "model = GCN(hidden_channels=16)\n",
        "print(model)\n",
        "\n",
        "# 定义损失函数和优化器\n",
        "criterion = torch.nn.CrossEntropyLoss()\n",
        "optimizer = torch.optim.Adam(params=model.parameters(),lr = 0.01, weight_decay=5e-4)\n",
        "\n",
        "# 训练并评估模型\n",
        "cora_train_metrics_default, cora_test_metrics_default = train_and_evaluate(model, criterion, optimizer, data, 500)"
      ]
    },
    {
      "cell_type": "code",
      "source": [
        "# @title 调优\n",
        "from torch_geometric.nn import GCNConv\n",
        "import torch\n",
        "import torch.nn.functional as F\n",
        "\n",
        "class GCN(torch.nn.Module):\n",
        "    def __init__(self, hidden_channels) -> None:\n",
        "        super().__init__()\n",
        "        self.conv1 = GCNConv(data.num_node_features, hidden_channels)\n",
        "        self.conv2 = GCNConv(hidden_channels, len(torch.unique(data.y)))\n",
        "\n",
        "    def forward(self, x, edge_index):\n",
        "        h = self.conv1(x, edge_index)\n",
        "        h = h.relu()\n",
        "        # 对输入的节点特征 x 进行 Dropout 操作，以减少过拟合风险。\n",
        "        # p=0.5 表示丢弃概率为0.5，即有50%的概率将输入置零。\n",
        "        h = F.dropout(h,p=0.5, training=self.training)\n",
        "        h = self.conv2(h, edge_index)\n",
        "        return h\n",
        "\n",
        "model = GCN(hidden_channels=16)\n",
        "print(model)\n",
        "\n",
        "# 定义损失函数、优化器、学习率调度器\n",
        "criterion = torch.nn.CrossEntropyLoss()\n",
        "optimizer = torch.optim.Adam(params=model.parameters(),lr = 0.1, weight_decay=5e-4)\n",
        "scheduler = torch.optim.lr_scheduler.StepLR(optimizer, step_size=20, gamma=0.1)\n",
        "\n",
        "# 训练并评估模型\n",
        "cora_train_metrics_df, cora_test_metrics_df = train_and_evaluate(model, criterion, optimizer, data, 500, 10, scheduler)"
      ],
      "metadata": {
        "id": "ZmJJZtrJO8PX",
        "outputId": "2c4ae976-a062-4e70-d3e2-fd17080e3d09",
        "colab": {
          "base_uri": "https://localhost:8080/"
        }
      },
      "execution_count": null,
      "outputs": [
        {
          "output_type": "stream",
          "name": "stdout",
          "text": [
            "GCN(\n",
            "  (conv1): GCNConv(500, 16)\n",
            "  (conv2): GCNConv(16, 7)\n",
            ")\n",
            "Epoch: 020, Train Loss: 0.1075, Val Loss: 0.6076, Train Acc: 0.9929, Train Prec: 0.9930, Train Rec: 0.9929, Train F1: 0.9929, Train AUC: 0.9999, Test Acc: 0.8640, Test Prec: 0.8699, Test Rec: 0.8640, Test F1: 0.8645, Test AUC: 0.9774\n",
            "Epoch: 040, Train Loss: 0.1285, Val Loss: 0.5406, Train Acc: 0.9893, Train Prec: 0.9897, Train Rec: 0.9893, Train F1: 0.9893, Train AUC: 1.0000, Test Acc: 0.8660, Test Prec: 0.8743, Test Rec: 0.8660, Test F1: 0.8670, Test AUC: 0.9816\n",
            "Epoch: 044, Train Loss: 0.1408, Val Loss: 0.5118, Train Acc: 0.9893, Train Prec: 0.9896, Train Rec: 0.9893, Train F1: 0.9893, Train AUC: 0.9999, Test Acc: 0.8710, Test Prec: 0.8757, Test Rec: 0.8710, Test F1: 0.8715, Test AUC: 0.9815\n",
            "Early stopping at epoch 44\n"
          ]
        }
      ]
    },
    {
      "cell_type": "markdown",
      "metadata": {
        "id": "9GhTwGXvfzrU"
      },
      "source": [
        "## CORA+GAT"
      ]
    },
    {
      "cell_type": "code",
      "execution_count": 40,
      "metadata": {
        "colab": {
          "base_uri": "https://localhost:8080/"
        },
        "id": "PCrFKHHaf1FL",
        "outputId": "cd2161ca-18ab-451c-fe08-c2861d3cff68"
      },
      "outputs": [
        {
          "output_type": "stream",
          "name": "stdout",
          "text": [
            "GAT(\n",
            "  (conv1): GATConv(500, 8, heads=8)\n",
            "  (conv2): GATConv(64, 7, heads=1)\n",
            ")\n",
            "Epoch: 020, Train Loss: 1.6649, Val Loss: 1.7082, Train Acc: 0.9214, Train Prec: 0.9287, Train Rec: 0.9214, Train F1: 0.9215, Train AUC: 0.9932, Test Acc: 0.8230, Test Prec: 0.8320, Test Rec: 0.8230, Test F1: 0.8232, Test AUC: 0.9552\n",
            "Epoch: 040, Train Loss: 1.3143, Val Loss: 1.3624, Train Acc: 0.9286, Train Prec: 0.9349, Train Rec: 0.9286, Train F1: 0.9286, Train AUC: 0.9969, Test Acc: 0.8390, Test Prec: 0.8545, Test Rec: 0.8390, Test F1: 0.8399, Test AUC: 0.9712\n",
            "Epoch: 060, Train Loss: 1.0084, Val Loss: 1.0558, Train Acc: 0.9357, Train Prec: 0.9406, Train Rec: 0.9357, Train F1: 0.9357, Train AUC: 0.9982, Test Acc: 0.8520, Test Prec: 0.8637, Test Rec: 0.8520, Test F1: 0.8522, Test AUC: 0.9767\n",
            "Epoch: 080, Train Loss: 0.8999, Val Loss: 0.8698, Train Acc: 0.9500, Train Prec: 0.9526, Train Rec: 0.9500, Train F1: 0.9499, Train AUC: 0.9988, Test Acc: 0.8570, Test Prec: 0.8671, Test Rec: 0.8570, Test F1: 0.8573, Test AUC: 0.9773\n",
            "Epoch: 100, Train Loss: 0.8027, Val Loss: 0.7602, Train Acc: 0.9536, Train Prec: 0.9556, Train Rec: 0.9536, Train F1: 0.9535, Train AUC: 0.9990, Test Acc: 0.8600, Test Prec: 0.8669, Test Rec: 0.8600, Test F1: 0.8597, Test AUC: 0.9783\n",
            "Epoch: 120, Train Loss: 0.8015, Val Loss: 0.6873, Train Acc: 0.9607, Train Prec: 0.9622, Train Rec: 0.9607, Train F1: 0.9606, Train AUC: 0.9993, Test Acc: 0.8610, Test Prec: 0.8669, Test Rec: 0.8610, Test F1: 0.8612, Test AUC: 0.9790\n",
            "Epoch: 140, Train Loss: 0.7055, Val Loss: 0.6414, Train Acc: 0.9750, Train Prec: 0.9759, Train Rec: 0.9750, Train F1: 0.9749, Train AUC: 0.9996, Test Acc: 0.8730, Test Prec: 0.8766, Test Rec: 0.8730, Test F1: 0.8729, Test AUC: 0.9796\n",
            "Epoch: 160, Train Loss: 0.7801, Val Loss: 0.6246, Train Acc: 0.9750, Train Prec: 0.9764, Train Rec: 0.9750, Train F1: 0.9750, Train AUC: 0.9997, Test Acc: 0.8580, Test Prec: 0.8645, Test Rec: 0.8580, Test F1: 0.8583, Test AUC: 0.9797\n",
            "Epoch: 164, Train Loss: 0.7321, Val Loss: 0.6263, Train Acc: 0.9750, Train Prec: 0.9761, Train Rec: 0.9750, Train F1: 0.9749, Train AUC: 0.9997, Test Acc: 0.8520, Test Prec: 0.8586, Test Rec: 0.8520, Test F1: 0.8523, Test AUC: 0.9797\n",
            "Early stopping at epoch 164\n"
          ]
        }
      ],
      "source": [
        "from torch_geometric.datasets import Planetoid\n",
        "from torch_geometric.transforms import NormalizeFeatures\n",
        "from torch_geometric.nn import GATConv\n",
        "import torch\n",
        "import torch.nn.functional as F\n",
        "\n",
        "# GAT 模型\n",
        "class GAT(torch.nn.Module):\n",
        "    def __init__(self, hidden_channels):\n",
        "        super().__init__()\n",
        "        self.conv1 = GATConv(data.num_node_features, hidden_channels, heads=8, dropout=0.6)\n",
        "        # heads参数控制多头注意力机制的头数。\n",
        "        # dropout参数控制dropout的比例，用于防止过拟合。\n",
        "        self.conv2 = GATConv(hidden_channels * 8, len(torch.unique(data.y)),heads=1, concat=False, dropout=0.6)\n",
        "        # concat参数控制是否将多头注意力的结果拼接起来，这里设置为False，表示取平均。\n",
        "\n",
        "\n",
        "    def forward(self, x, edge_index):\n",
        "        x = F.dropout(x, p=0.6, training=self.training)\n",
        "        x = self.conv1(x, edge_index)\n",
        "        x = F.elu(x)\n",
        "        x = F.dropout(x, p=0.6, training=self.training)\n",
        "        x = self.conv2(x, edge_index)\n",
        "        return x\n",
        "\n",
        "model = GAT(hidden_channels=8)\n",
        "print(model)\n",
        "\n",
        "# 模型训练\n",
        "criterion = torch.nn.CrossEntropyLoss()\n",
        "optimizer = torch.optim.Adam(model.parameters(), lr=0.005, weight_decay=5e-4)\n",
        "\n",
        "# 训练并评估模型\n",
        "train_metrics_df, test_metrics_df = train_and_evaluate(model, criterion, optimizer, data, 500)"
      ]
    },
    {
      "cell_type": "markdown",
      "source": [
        "# 可视化"
      ],
      "metadata": {
        "id": "6G3HunUXgJLq"
      }
    },
    {
      "cell_type": "code",
      "source": [
        "import networkx as nx\n",
        "import matplotlib.pyplot as plt\n",
        "import numpy as np\n",
        "\n",
        "def visualize_data(data, label_name_dict):\n",
        "    \"\"\"\n",
        "    可视化图数据。\n",
        "\n",
        "    Args:\n",
        "        data: torch_geometric.data.Data 对象，包含节点特征、边索引和节点标签。\n",
        "        label_name_dict: 标签对应名称的字典。\n",
        "    \"\"\"\n",
        "    # 创建 NetworkX 图对象\n",
        "    graph = nx.Graph()\n",
        "    graph.add_edges_from(data.edge_index.t().numpy())\n",
        "\n",
        "    # 将标签添加到图的节点属性中\n",
        "    for i, label in enumerate(data.y.numpy()):\n",
        "        graph.nodes[i][\"label\"] = label\n",
        "\n",
        "    # 可视化\n",
        "    plt.figure(figsize=(10, 8))\n",
        "    pos = nx.spring_layout(graph, seed=42)  # 使用 spring_layout 进行布局\n",
        "    # 为每个节点设置颜色，根据其标签\n",
        "    node_colors = [graph.nodes[node][\"label\"] for node in graph.nodes()]\n",
        "    nx.draw(\n",
        "        graph,\n",
        "        pos,\n",
        "        node_color=node_colors,\n",
        "        node_size=50,\n",
        "        cmap=plt.cm.tab20,\n",
        "        with_labels=False,\n",
        "    )\n",
        "\n",
        "    # 添加图例\n",
        "    handles = []\n",
        "    for label in np.unique(node_colors):\n",
        "        if label in label_name_dict:\n",
        "            handles.append(\n",
        "                plt.Line2D(\n",
        "                    [0],\n",
        "                    [0],\n",
        "                    marker=\"o\",\n",
        "                    color=\"w\",\n",
        "                    label=label_name_dict[label],\n",
        "                    markerfacecolor=plt.cm.tab20(label),\n",
        "                    markersize=10,\n",
        "                )\n",
        "            )\n",
        "\n",
        "    plt.legend(handles=handles, title=\"Categories\")\n",
        "    plt.title(\"Dataset Visualization\")\n",
        "    plt.show()\n",
        "\n",
        "# 调用可视化函数\n",
        "visualize_data(data, cora_data[1])"
      ],
      "metadata": {
        "colab": {
          "base_uri": "https://localhost:8080/",
          "height": 859
        },
        "id": "xgzmEgt6l7Ey",
        "outputId": "3fa75fe6-198c-48f7-b178-2a2e4d235c7f"
      },
      "execution_count": 171,
      "outputs": [
        {
          "output_type": "display_data",
          "data": {
            "text/plain": [
              "<Figure size 1000x800 with 1 Axes>"
            ],
            "image/png": "[encoded data removed]"
          },
          "metadata": {}
        }
      ]
    },
    {
      "cell_type": "markdown",
      "metadata": {
        "id": "p_9P1BAZenPT"
      },
      "source": [
        "# 官方数据集获取(弃)"
      ]
    },
    {
      "cell_type": "code",
      "execution_count": null,
      "metadata": {
        "colab": {
          "base_uri": "https://localhost:8080/"
        },
        "id": "NhqzViCdL1Rl",
        "outputId": "cad0265f-7777-4104-8dcb-da78090981be"
      },
      "outputs": [
        {
          "output_type": "stream",
          "name": "stdout",
          "text": [
            "\n",
            "datasets:Cora()\n",
            "num of graphs:1\n",
            "num of features:1433\n",
            "num of classes: 7\n",
            "Data(x=[2708, 1433], edge_index=[2, 10556], y=[2708], train_mask=[2708], val_mask=[2708], test_mask=[2708])\n",
            "num of nodes: 2708\n",
            "num of node_features: 1433\n",
            "num of edges: 10556\n",
            "num of training node: 140\n",
            "training node label rate: 0.05\n"
          ]
        }
      ],
      "source": [
        "# 数据集相关信息\n",
        "'''\n",
        "from torch_geometric.datasets import Planetoid\n",
        "from torch_geometric.transforms import NormalizeFeatures\n",
        "\n",
        "dataset = Planetoid(root=\"tmp\", name = \"Cora\", transform=NormalizeFeatures())\n",
        "\n",
        "print()\n",
        "print(f\"datasets:{dataset}\")\n",
        "print(f\"num of graphs:{len(dataset)}\")\n",
        "print(f\"num of features:{dataset.num_features}\")\n",
        "print(f\"num of classes: {dataset.num_classes}\")\n",
        "\n",
        "data = dataset[0]\n",
        "\n",
        "print(data)\n",
        "print(f\"num of nodes: {data.num_nodes}\")\n",
        "print(f\"num of node_features: {data.num_node_features}\")\n",
        "print(f\"num of edges: {data.num_edges}\")\n",
        "\n",
        "print(f\"num of training node: {data.train_mask.sum()}\")\n",
        "print(f\"training node label rate: {int(data.train_mask.sum()) / data.num_nodes:.2f}\")\n",
        "'''"
      ]
    },
    {
      "cell_type": "code",
      "source": [
        "print(dir(dataset))"
      ],
      "metadata": {
        "colab": {
          "base_uri": "https://localhost:8080/"
        },
        "id": "0x11sxJPoH0i",
        "outputId": "3355f776-e354-4e0a-c96f-d0d27f71345f"
      },
      "execution_count": null,
      "outputs": [
        {
          "output_type": "stream",
          "name": "stdout",
          "text": [
            "['__add__', '__annotations__', '__class__', '__class_getitem__', '__delattr__', '__dict__', '__dir__', '__doc__', '__eq__', '__format__', '__ge__', '__getattr__', '__getattribute__', '__getitem__', '__gt__', '__hash__', '__init__', '__init_subclass__', '__iter__', '__le__', '__len__', '__lt__', '__module__', '__ne__', '__new__', '__orig_bases__', '__parameters__', '__reduce__', '__reduce_ex__', '__repr__', '__setattr__', '__sizeof__', '__slots__', '__str__', '__subclasshook__', '__weakref__', '_data', '_data_list', '_download', '_indices', '_infer_num_classes', '_is_protocol', '_process', 'collate', 'copy', 'cpu', 'cuda', 'data', 'download', 'force_reload', 'geom_gcn_url', 'get', 'get_summary', 'has_download', 'has_process', 'index_select', 'indices', 'len', 'load', 'log', 'name', 'num_classes', 'num_edge_features', 'num_features', 'num_node_features', 'pre_filter', 'pre_transform', 'print_summary', 'process', 'processed_dir', 'processed_file_names', 'processed_paths', 'raw_dir', 'raw_file_names', 'raw_paths', 'root', 'save', 'shuffle', 'slices', 'split', 'to', 'to_datapipe', 'to_on_disk_dataset', 'transform', 'url']\n"
          ]
        }
      ]
    },
    {
      "cell_type": "markdown",
      "source": [
        "## 随机划分数据集(弃)"
      ],
      "metadata": {
        "id": "n00D0xCqc5Fc"
      }
    },
    {
      "cell_type": "code",
      "source": [
        "num_nodes = data.num_nodes\n",
        "num_train = int(0.1 * num_nodes)  # 10% 用于训练\n",
        "num_val = int(0.4 * num_nodes)    # 40% 用于验证\n",
        "\n",
        "# 随机选择训练集节点\n",
        "train_idx = torch.randperm(num_nodes)[:num_train]\n",
        "train_mask = torch.zeros(num_nodes, dtype=torch.bool)\n",
        "train_mask[train_idx] = True\n",
        "\n",
        "# 随机选择验证集节点\n",
        "val_idx = torch.randperm(num_nodes)[num_train:num_train + num_val]\n",
        "val_mask = torch.zeros(num_nodes, dtype=torch.bool)\n",
        "val_mask[val_idx] = True\n",
        "\n",
        "# 其余节点作为测试集\n",
        "test_mask = ~(train_mask | val_mask)\n",
        "\n",
        "# 将掩码添加到 data 对象\n",
        "data.train_mask = train_mask\n",
        "data.val_mask = val_mask\n",
        "data.test_mask = test_mask"
      ],
      "metadata": {
        "id": "TH5tba7Wxh_N"
      },
      "execution_count": null,
      "outputs": []
    },
    {
      "cell_type": "code",
      "source": [
        "print(data.train_mask)\n",
        "print(data.val_mask)\n",
        "print(data.test_mask)"
      ],
      "metadata": {
        "colab": {
          "base_uri": "https://localhost:8080/"
        },
        "id": "7CD0zT0oy02B",
        "outputId": "29110469-2b94-43b0-9a14-ea6783bfe18a"
      },
      "execution_count": null,
      "outputs": [
        {
          "output_type": "stream",
          "name": "stdout",
          "text": [
            "tensor([False, False, False,  ..., False, False, False])\n",
            "tensor([ True,  True,  True,  ..., False, False,  True])\n",
            "tensor([False, False, False,  ...,  True,  True, False])\n"
          ]
        }
      ]
    }
  ],
  "metadata": {
    "colab": {
      "provenance": [],
      "include_colab_link": true
    },
    "kernelspec": {
      "display_name": "Python 3",
      "name": "python3"
    },
    "language_info": {
      "name": "python"
    }
  },
  "nbformat": 4,
  "nbformat_minor": 0
}